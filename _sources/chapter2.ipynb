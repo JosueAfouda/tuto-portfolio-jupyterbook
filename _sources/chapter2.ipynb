{
 "cells": [
  {
   "cell_type": "markdown",
   "id": "4cf4884b-1878-4dd2-90b7-3960c7fe44b7",
   "metadata": {},
   "source": [
    "# Projet 2"
   ]
  },
  {
   "cell_type": "code",
   "execution_count": null,
   "id": "9cbfb60d-f1a2-40f1-a1a6-8ac156ed5130",
   "metadata": {},
   "outputs": [],
   "source": [
    "from warnings import filterwarnings\n",
    "filterwarnings('ignore')\n",
    "from IPython.display import HTML"
   ]
  },
  {
   "cell_type": "markdown",
   "id": "645a4ff3-99b1-4461-8aa1-b030ac11658e",
   "metadata": {},
   "source": [
    "## Réalisation n°1"
   ]
  },
  {
   "cell_type": "code",
   "execution_count": 2,
   "id": "e178595e-4edd-4c51-8dde-d120b0c0e23b",
   "metadata": {},
   "outputs": [
    {
     "data": {
      "text/html": [
       "<iframe src=\"https://afoudajosue.shinyapps.io/airbnb_dashboard/ \" width=\"950\" height=\"800\" frameborder=\"0\"></iframe>"
      ],
      "text/plain": [
       "<IPython.core.display.HTML object>"
      ]
     },
     "execution_count": 2,
     "metadata": {},
     "output_type": "execute_result"
    }
   ],
   "source": [
    "HTML('<iframe src=\"https://afoudajosue.shinyapps.io/airbnb_dashboard/ \" width=\"950\" height=\"800\" frameborder=\"0\"></iframe>')"
   ]
  },
  {
   "cell_type": "markdown",
   "id": "6e43b0b2-1e10-43f0-bd19-6a90ce4b14bc",
   "metadata": {},
   "source": [
    "Lien de mon application : https://afoudajosue.shinyapps.io/airbnb_dashboard/"
   ]
  },
  {
   "cell_type": "markdown",
   "id": "685ecca0-6200-41b2-88b6-b09d6d0f9379",
   "metadata": {},
   "source": [
    "bmbhvhebnkvhbvn,fnl f,nv,cvkvnf kfb,ltkb"
   ]
  },
  {
   "cell_type": "markdown",
   "id": "4b4a9623-081d-415a-8ac5-84ecdffd48ca",
   "metadata": {},
   "source": [
    "## Réalisation n°2"
   ]
  },
  {
   "cell_type": "code",
   "execution_count": 3,
   "id": "66c4d503-a517-4730-95c1-1b64125cf620",
   "metadata": {},
   "outputs": [
    {
     "data": {
      "text/html": [
       "<iframe src=\"https://www.youtube.com/embed/G_n2svA1-eY\" width=\"560\" height=\"315\" frameborder=\"0\" allowfullscreen=\"allowfullscreen\" data-src=\"https://www.youtube.com/embed/G_n2svA1-eY\"></iframe>"
      ],
      "text/plain": [
       "<IPython.core.display.HTML object>"
      ]
     },
     "execution_count": 3,
     "metadata": {},
     "output_type": "execute_result"
    }
   ],
   "source": [
    "HTML('<iframe src=\"https://www.youtube.com/embed/G_n2svA1-eY\" width=\"560\" height=\"315\" frameborder=\"0\" allowfullscreen=\"allowfullscreen\" data-src=\"https://www.youtube.com/embed/G_n2svA1-eY\"></iframe>')"
   ]
  },
  {
   "cell_type": "markdown",
   "id": "babe368f-afc8-4604-bdca-8ce720b37a4f",
   "metadata": {},
   "source": [
    "![](logo.png)"
   ]
  }
 ],
 "metadata": {
  "kernelspec": {
   "display_name": "Python 3 (ipykernel)",
   "language": "python",
   "name": "python3"
  },
  "language_info": {
   "codemirror_mode": {
    "name": "ipython",
    "version": 3
   },
   "file_extension": ".py",
   "mimetype": "text/x-python",
   "name": "python",
   "nbconvert_exporter": "python",
   "pygments_lexer": "ipython3",
   "version": "3.9.7"
  }
 },
 "nbformat": 4,
 "nbformat_minor": 5
}
