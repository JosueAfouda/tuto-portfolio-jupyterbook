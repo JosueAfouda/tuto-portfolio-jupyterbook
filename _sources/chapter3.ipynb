{
 "cells": [
  {
   "cell_type": "markdown",
   "id": "1c7aa1e8-4d7e-4120-919b-7d908757d0c4",
   "metadata": {},
   "source": [
    "# Projet 3"
   ]
  },
  {
   "cell_type": "markdown",
   "id": "2daa2556-77ae-4a49-80fc-47bc16685a53",
   "metadata": {},
   "source": [
    "Dans ce projet, j'ai réalisé une application permettant de construire des stratégies de trading qui utilisent les moyennes mobiles"
   ]
  },
  {
   "cell_type": "code",
   "execution_count": 1,
   "id": "8f95e3de-e15f-4541-909d-651120cebb20",
   "metadata": {},
   "outputs": [],
   "source": [
    "# Code"
   ]
  },
  {
   "cell_type": "markdown",
   "id": "534f7cb5-282b-423f-ab59-c6f693cf0b1e",
   "metadata": {},
   "source": [
    "Lien de mon application : https://josueafouda-algorithmic-trading-mavg-strategy-e5sm5c.streamlitapp.com/"
   ]
  }
 ],
 "metadata": {
  "kernelspec": {
   "display_name": "Python 3 (ipykernel)",
   "language": "python",
   "name": "python3"
  },
  "language_info": {
   "codemirror_mode": {
    "name": "ipython",
    "version": 3
   },
   "file_extension": ".py",
   "mimetype": "text/x-python",
   "name": "python",
   "nbconvert_exporter": "python",
   "pygments_lexer": "ipython3",
   "version": "3.9.7"
  }
 },
 "nbformat": 4,
 "nbformat_minor": 5
}
